{
 "cells": [
  {
   "cell_type": "code",
   "execution_count": 22,
   "metadata": {},
   "outputs": [],
   "source": [
    "import pandas as pd\n",
    "import numpy as np"
   ]
  },
  {
   "cell_type": "code",
   "execution_count": null,
   "metadata": {},
   "outputs": [],
   "source": [
    "df = pd.read_csv(\"../data/csv/playlists_dataset/playlist_data_v3.csv\")"
   ]
  },
  {
   "cell_type": "code",
   "execution_count": null,
   "metadata": {},
   "outputs": [
    {
     "name": "stdout",
     "output_type": "stream",
     "text": [
      "(2004520,)\n"
     ]
    }
   ],
   "source": [
    "print(df[\"trackname\"].unique().shape)"
   ]
  },
  {
   "cell_type": "code",
   "execution_count": null,
   "metadata": {},
   "outputs": [
    {
     "name": "stdout",
     "output_type": "stream",
     "text": [
      "12856831\n"
     ]
    }
   ],
   "source": [
    "num_of_entrys = df[\"trackname\"].shape[0]\n",
    "print(num_of_entrys)"
   ]
  },
  {
   "cell_type": "code",
   "execution_count": 26,
   "metadata": {},
   "outputs": [
    {
     "name": "stdout",
     "output_type": "stream",
     "text": [
      "231560\n"
     ]
    }
   ],
   "source": [
    "num_of_playlists = df[\"playlist_and_user_id\"].unique().shape[0]\n",
    "print(num_of_playlists)\n",
    "# 157505 playlists without combining playlistname and the user_id\n",
    "\n",
    "# 220023 playlists with user_id"
   ]
  },
  {
   "cell_type": "code",
   "execution_count": 27,
   "metadata": {},
   "outputs": [
    {
     "name": "stdout",
     "output_type": "stream",
     "text": [
      "55.52267662808775\n"
     ]
    }
   ],
   "source": [
    "avg_playlist_len = num_of_entrys / num_of_playlists\n",
    "print(avg_playlist_len)"
   ]
  },
  {
   "cell_type": "code",
   "execution_count": 28,
   "metadata": {},
   "outputs": [],
   "source": [
    "tokenized_playlist_np = df.groupby(\"playlist_and_user_id\")[\"track_and_artist\"].apply(\n",
    "    list\n",
    ")\n",
    "tokenized_playlist = tokenized_playlist_np.tolist()"
   ]
  },
  {
   "cell_type": "code",
   "execution_count": 20,
   "metadata": {},
   "outputs": [
    {
     "name": "stdout",
     "output_type": "stream",
     "text": [
      "Total Playlists: 231560\n",
      "Total Songs: 12856831\n",
      "Average Songs per Playlist: 55.52267662808775\n",
      "Variance of Songs per Playlist: 73546.52178668605\n",
      "Standard Deviation of Songs per Playlist: 271.1946197598434\n",
      "Shortest Playlist Length: 1\n",
      "Longest Playlist Length: 47362\n"
     ]
    }
   ],
   "source": [
    "playlist_lengths = np.array([len(playlist) for playlist in tokenized_playlist])\n",
    "\n",
    "total_playlists = len(tokenized_playlist)\n",
    "\n",
    "total_songs = sum(playlist_lengths)\n",
    "\n",
    "average_songs_per_playlist = np.mean(playlist_lengths)\n",
    "\n",
    "variance_songs_per_playlist = np.var(playlist_lengths)\n",
    "std_dev_songs_per_playlist = np.std(playlist_lengths)\n",
    "\n",
    "shortest_playlist = min(playlist_lengths)\n",
    "longest_playlist = max(playlist_lengths)\n",
    "\n",
    "metrics = {\n",
    "    \"Total Playlists\": total_playlists,\n",
    "    \"Total Songs\": total_songs,\n",
    "    \"Average Songs per Playlist\": average_songs_per_playlist,\n",
    "    \"Variance of Songs per Playlist\": variance_songs_per_playlist,\n",
    "    \"Standard Deviation of Songs per Playlist\": std_dev_songs_per_playlist,\n",
    "    \"Shortest Playlist Length\": shortest_playlist,\n",
    "    \"Longest Playlist Length\": longest_playlist,\n",
    "}\n",
    "\n",
    "for key, value in metrics.items():\n",
    "    print(f\"{key}: {value}\")"
   ]
  },
  {
   "cell_type": "code",
   "execution_count": 34,
   "metadata": {},
   "outputs": [
    {
     "name": "stdout",
     "output_type": "stream",
     "text": [
      "Total Playlists (after filtering): 230201\n",
      "Total Songs (after filtering): 9641891\n",
      "Average Songs per Playlist (after filtering): 41.88466166524038\n",
      "Variance of Songs per Playlist (after filtering): 6527.9404983117975\n",
      "Standard Deviation of Songs per Playlist (after filtering): 80.7956712844927\n",
      "Shortest Playlist Length (after filtering): 1\n",
      "Longest Playlist Length (after filtering): 926\n"
     ]
    }
   ],
   "source": [
    "# Remove extreme outliers (e.g., playlists with lengths beyond a reasonable range)\n",
    "# Using Interquartile Range (IQR) method for outlier detection\n",
    "Q1 = np.percentile(playlist_lengths, 0)  # First quartile (25th percentile)\n",
    "Q3 = np.percentile(playlist_lengths, 98)  # Third quartile (75th percentile)\n",
    "IQR = Q3 - Q1  # Interquartile range\n",
    "\n",
    "lower_bound = Q1 - 1.5 * IQR\n",
    "upper_bound = Q3 + 1.5 * IQR\n",
    "\n",
    "filtered_playlist_lengths = playlist_lengths[\n",
    "    (playlist_lengths >= lower_bound) & (playlist_lengths <= upper_bound)\n",
    "]\n",
    "\n",
    "total_playlists = len(filtered_playlist_lengths)\n",
    "total_songs = sum(filtered_playlist_lengths)\n",
    "average_songs_per_playlist = np.mean(filtered_playlist_lengths)\n",
    "variance_songs_per_playlist = np.var(filtered_playlist_lengths)\n",
    "std_dev_songs_per_playlist = np.std(filtered_playlist_lengths)\n",
    "shortest_playlist = min(filtered_playlist_lengths)\n",
    "longest_playlist = max(filtered_playlist_lengths)\n",
    "\n",
    "metrics = {\n",
    "    \"Total Playlists (after filtering)\": total_playlists,\n",
    "    \"Total Songs (after filtering)\": total_songs,\n",
    "    \"Average Songs per Playlist (after filtering)\": average_songs_per_playlist,\n",
    "    \"Variance of Songs per Playlist (after filtering)\": variance_songs_per_playlist,\n",
    "    \"Standard Deviation of Songs per Playlist (after filtering)\": std_dev_songs_per_playlist,\n",
    "    \"Shortest Playlist Length (after filtering)\": shortest_playlist,\n",
    "    \"Longest Playlist Length (after filtering)\": longest_playlist,\n",
    "}\n",
    "\n",
    "for key, value in metrics.items():\n",
    "    print(f\"{key}: {value}\")"
   ]
  },
  {
   "cell_type": "code",
   "execution_count": 11,
   "metadata": {},
   "outputs": [
    {
     "name": "stdout",
     "output_type": "stream",
     "text": [
      "         Unnamed: 0                     trackname  \\\n",
      "1206           2663  One Of Us Is Gonna Die Young   \n",
      "1610          11625  One Of Us Is Gonna Die Young   \n",
      "2961          13174  One Of Us Is Gonna Die Young   \n",
      "4234          14636             The Bad Die Young   \n",
      "4758          16064                     Die Young   \n",
      "...             ...                           ...   \n",
      "6101595    12873308     Better Hope You Die Young   \n",
      "6103736    12875906  Live Fast Die Young - B-Side   \n",
      "6106449    12879435              Rather Die Young   \n",
      "6112702    12890321                  We Die Young   \n",
      "6113062    12890681                     Die Young   \n",
      "\n",
      "                              playlistname       artistname  \\\n",
      "1206               tove's spamlista (okok)          The Ark   \n",
      "1610                          January 2014          The Ark   \n",
      "2961                       Svenska Hjärtan          The Ark   \n",
      "4234                   For England, James?    Nicholas Dodd   \n",
      "4758                             Summering            Ke$ha   \n",
      "...                                    ...              ...   \n",
      "6101595                            Cunt-ry  Hellbound Glory   \n",
      "6103736  Saxon — The EMI Years (1985-1988)            Saxon   \n",
      "6106449                        Beyoncé - 4          Beyoncé   \n",
      "6112702                          Rum! Time  Alice In Chains   \n",
      "6113062          Happy Atlanta Pride 2012!            Ke$ha   \n",
      "\n",
      "                                  user_id  \\\n",
      "1206     c5cdf06b5f1836006ef2a2fe4f5ff103   \n",
      "1610     c50566d83fba17b20697039d5824db78   \n",
      "2961     c50566d83fba17b20697039d5824db78   \n",
      "4234     7511e45f2cc6f6e609ae46c15506538c   \n",
      "4758     7511e45f2cc6f6e609ae46c15506538c   \n",
      "...                                   ...   \n",
      "6101595  61b2a084bcad06ec7b69901e85dffb18   \n",
      "6103736  5e80e95f8e94d70a27d2dd450cb15fa8   \n",
      "6106449  a0e3321d33fb3c9d0a4d822978cf8882   \n",
      "6112702  d1689b06867831b57b47d1523f60a458   \n",
      "6113062  488ead471813ae982119153f792e4a3e   \n",
      "\n",
      "                                  track_and_artist  \\\n",
      "1206          One Of Us Is Gonna Die Young The Ark   \n",
      "1610          One Of Us Is Gonna Die Young The Ark   \n",
      "2961          One Of Us Is Gonna Die Young The Ark   \n",
      "4234               The Bad Die Young Nicholas Dodd   \n",
      "4758                               Die Young Ke$ha   \n",
      "...                                            ...   \n",
      "6101595  Better Hope You Die Young Hellbound Glory   \n",
      "6103736         Live Fast Die Young - B-Side Saxon   \n",
      "6106449                   Rather Die Young Beyoncé   \n",
      "6112702               We Die Young Alice In Chains   \n",
      "6113062                            Die Young Ke$ha   \n",
      "\n",
      "                                      playlist_and_user_id  \n",
      "1206     tove's spamlista (okok) c5cdf06b5f1836006ef2a2...  \n",
      "1610         January 2014 c50566d83fba17b20697039d5824db78  \n",
      "2961      Svenska Hjärtan c50566d83fba17b20697039d5824db78  \n",
      "4234     For England, James? 7511e45f2cc6f6e609ae46c155...  \n",
      "4758            Summering 7511e45f2cc6f6e609ae46c15506538c  \n",
      "...                                                    ...  \n",
      "6101595           Cunt-ry 61b2a084bcad06ec7b69901e85dffb18  \n",
      "6103736  Saxon — The EMI Years (1985-1988) 5e80e95f8e94...  \n",
      "6106449       Beyoncé - 4 a0e3321d33fb3c9d0a4d822978cf8882  \n",
      "6112702         Rum! Time d1689b06867831b57b47d1523f60a458  \n",
      "6113062  Happy Atlanta Pride 2012! 488ead471813ae982119...  \n",
      "\n",
      "[1715 rows x 7 columns]\n"
     ]
    }
   ],
   "source": [
    "# Search string\n",
    "search_string = \"die young\"\n",
    "\n",
    "# Case-insensitive search in a column\n",
    "result = df[df[\"trackname\"].str.contains(search_string, case=False, na=False)]\n",
    "\n",
    "print(result)"
   ]
  }
 ],
 "metadata": {
  "kernelspec": {
   "display_name": "venv",
   "language": "python",
   "name": "python3"
  },
  "language_info": {
   "codemirror_mode": {
    "name": "ipython",
    "version": 3
   },
   "file_extension": ".py",
   "mimetype": "text/x-python",
   "name": "python",
   "nbconvert_exporter": "python",
   "pygments_lexer": "ipython3",
   "version": "3.10.11"
  }
 },
 "nbformat": 4,
 "nbformat_minor": 2
}
