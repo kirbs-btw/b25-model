{
 "cells": [
  {
   "cell_type": "code",
   "execution_count": 1,
   "metadata": {},
   "outputs": [],
   "source": [
    "import gensim\n",
    "from gensim.models import Word2Vec\n",
    "from nltk.tokenize import word_tokenize\n",
    "import nltk\n",
    "import pandas as pd\n",
    "import pickle"
   ]
  },
  {
   "cell_type": "code",
   "execution_count": 2,
   "metadata": {},
   "outputs": [],
   "source": [
    "# model = Word2Vec.load(\"../models/b25-sn-v256/b25-sn-v256.model\")\n",
    "# model = Word2Vec.load(\"../models/b25-sn-v512/b25-sn-v512-b.model\")  # <--\n",
    "# model = Word2Vec.load(\"../models/b25-sn-v512/b25-sn-v512-a.model\")\n",
    "# model = Word2Vec.load(\"../models/b25-sn-v50/b25-sn-v50.model\")\n",
    "# model = Word2Vec.load(\"../models/b25-sn-v256/b25-sn-v256-d-c.model\")\n",
    "model = Word2Vec.load(\"../models/b25-sn-v512/b25-sn-v512-b-d.model\")\n",
    "# model = Word2Vec.load(\"../models/b25-sn-v256/b25-sn-v256-d-c.model\")"
   ]
  },
  {
   "cell_type": "code",
   "execution_count": 2,
   "metadata": {},
   "outputs": [],
   "source": [
    "# cboe\n",
    "import sys\n",
    "import os\n",
    "\n",
    "# Add the parent directory to the Python path\n",
    "sys.path.append(os.path.abspath(\"../\"))  # Adjust based on the notebook's location\n",
    "\n",
    "# Now import the `cboe` package\n",
    "from cboe import *\n",
    "\n",
    "model = Entity2Vec.load(\"../models/b25-sn-v256/b25-sn-v256-e.pkl\")"
   ]
  },
  {
   "cell_type": "code",
   "execution_count": 2,
   "metadata": {},
   "outputs": [],
   "source": [
    "from algo_testing import son2vecgl_a\n",
    "\n",
    "with open(\n",
    "    \"../models/b25-sn-v512/b25-sn-v512-g.pkl\", \"rb\"\n",
    ") as file:  # \"rb\" means read in binary mode\n",
    "    model = pickle.load(file)"
   ]
  },
  {
   "cell_type": "code",
   "execution_count": 3,
   "metadata": {},
   "outputs": [],
   "source": [
    "with open(\"../data/tokenized_data/playlist_names/dataset_test_v3.pkl\", \"rb\") as f:\n",
    "    tokenized_playlists = pickle.load(f)"
   ]
  },
  {
   "cell_type": "markdown",
   "metadata": {},
   "source": [
    "## Precision@1"
   ]
  },
  {
   "cell_type": "code",
   "execution_count": 5,
   "metadata": {},
   "outputs": [
    {
     "name": "stdout",
     "output_type": "stream",
     "text": [
      "Total songs: 29290\n",
      "correct: 20422\n",
      "Accuracy: 0.697234551041311\n",
      "Tested: 29290\n",
      "Wrong: 0\n"
     ]
    }
   ],
   "source": [
    "tested = 0\n",
    "correct = 0\n",
    "\n",
    "test_set = tokenized_playlists[:1000]\n",
    "a = 0\n",
    "for playlist in test_set:\n",
    "    a += len(playlist)\n",
    "print(f\"Total songs: {a}\")\n",
    "\n",
    "vgl_a = 0\n",
    "vgl_b = 0\n",
    "\n",
    "for playlist in test_set:\n",
    "    for song in playlist:\n",
    "        vgl_a += 1\n",
    "\n",
    "        try:\n",
    "\n",
    "            similar_words = model.wv.most_similar(song, topn=1)\n",
    "            # similar_words = model.nearest(song, k=1)\n",
    "            # similar_words = model.nearest(song, k=1)\n",
    "            if similar_words == []:\n",
    "                continue\n",
    "\n",
    "            tested += 1\n",
    "\n",
    "            if any(word[0] in playlist for word in similar_words):\n",
    "                correct += 1\n",
    "        except:\n",
    "            vgl_b += 1\n",
    "            continue\n",
    "\n",
    "\n",
    "print(f\"correct: {correct}\")\n",
    "print(f\"Accuracy: {correct/tested}\")\n",
    "print(f\"Tested: {vgl_a}\")\n",
    "print(f\"Wrong: {vgl_b}\")\n",
    "\n",
    "# this is a good value to see here for the data\n",
    "# over 200\n",
    "# 0.6791003839824465\n",
    "#\n",
    "\n",
    "# for the 256 model with 40 epochs\n",
    "# Total songs: 29290\n",
    "# correct: 20505\n",
    "# Accuracy: 0.700068282690338\n",
    "# Tested: 29290\n",
    "# Wrong: 0\n",
    "\n",
    "# for the 512 model  with 40 epochs\n",
    "# Total songs: 29290\n",
    "# correct: 20422\n",
    "# Accuracy: 0.697234551041311\n",
    "# Tested: 29290\n",
    "# Wrong: 0"
   ]
  },
  {
   "cell_type": "markdown",
   "metadata": {},
   "source": [
    "## Precision@K"
   ]
  },
  {
   "cell_type": "code",
   "execution_count": 7,
   "metadata": {},
   "outputs": [
    {
     "name": "stdout",
     "output_type": "stream",
     "text": [
      "Total songs: 9713\n",
      "correct: 9375\n",
      "Accuracy: 0.32173375887985173\n",
      "Tested: 9713\n",
      "Wrong: 0\n"
     ]
    }
   ],
   "source": [
    "tested = 0\n",
    "correct = 0\n",
    "K = 3\n",
    "\n",
    "test_set = tokenized_playlists[:250]\n",
    "a = 0\n",
    "for playlist in test_set:\n",
    "    a += len(playlist)\n",
    "print(f\"Total songs: {a}\")\n",
    "\n",
    "vgl_a = 0\n",
    "vgl_b = 0\n",
    "\n",
    "for playlist in test_set:\n",
    "    for song in playlist:\n",
    "        vgl_a += 1\n",
    "\n",
    "        try:\n",
    "\n",
    "            similar_words = model.wv.most_similar(song, topn=K)\n",
    "            # similar_words = model.nearest(song, k=K)\n",
    "            if similar_words == []:\n",
    "                continue\n",
    "\n",
    "            tested += 1\n",
    "\n",
    "            for similar_word in similar_words:\n",
    "                if similar_word[0] in playlist:\n",
    "                    correct += 1\n",
    "        except:\n",
    "            vgl_b += 1\n",
    "            continue\n",
    "\n",
    "\n",
    "print(f\"correct: {correct}\")\n",
    "print(f\"Accuracy: {correct/(tested*K)}\")\n",
    "print(f\"Tested: {vgl_a}\")\n",
    "print(f\"Wrong: {vgl_b}\")"
   ]
  },
  {
   "cell_type": "markdown",
   "metadata": {},
   "source": [
    "## Recall@K"
   ]
  },
  {
   "cell_type": "code",
   "execution_count": null,
   "metadata": {},
   "outputs": [],
   "source": [
    "# recall @ k would be the same as precision at k with a threshold for the k results..."
   ]
  },
  {
   "cell_type": "markdown",
   "metadata": {},
   "source": [
    "# Second Test with the Combined Artist and Trackname \n",
    "to exclude songs named the same with different vibe\n",
    "\n",
    "#### b25-sn-v50 param: vector_size=50, window=5, min_count=1, sg=0\n",
    "Accuracy: 0.36720959719106605\n",
    "\n",
    "#### b25-sn-v256-a param: vector_size=256, window=5, min_count=1, sg=0\n",
    "Accuracy: 0.36691699990246757\n",
    "\n",
    "#### b25-sn-v256-b param: vector_size=256, window=10, min_count=1, sg=0\n",
    "Accuracy: 0.43333658441431777\n",
    "\n",
    "#### b25-sn-v256-c param: vector_size=256, window=20, min_count=1, sg=0\n",
    "Accuracy: 0.4426996976494684\n",
    "\n",
    "#### b25-sn-v256-d param: vector_size=256, window=20, min_count=1, sg=1, ns_exponent=0.0\n",
    "Accuracy: 0.6513215644201698\n",
    "\n",
    "#### b25-sn-v512-a param: vector_size=512, window=100, min_count=1, sg=0\n",
    "Accuracy: 0.5702721154783965\n",
    "\n",
    "#### b25-sn-v512-b param: vector_size=512, window=100, min_count=1, sg=1, ns_exponent=0.0\n",
    "Accuracy: 0.773919828342924\n",
    "\n",
    "#### b25-sn-v512-d - CBOS param: vector_size=512, epochs=5, learning_rate=0.015*\n",
    "\n",
    "Accuracy: 0.08009367681498829\n",
    "\n",
    "#### b25-sn-v512-e param: vector_size: 512, window=inf, min_count=1, epochs=15, learning_rate=0.025, algo=CBOS-d\n",
    "Accuracy: 0.052830188679245285\n",
    "* Used distance to add a score to the gradient\n",
    "\n",
    "#### b25-snv128-f param: vector_size: 128, window=inf, min_count=1, epochs=15, learning_rate=0.025, algo=GLSE\n",
    "Accuracy: 0.0038022813688212928\n",
    "\n",
    "\n",
    "\n",
    "\\* trained with only 3.5% of the training data "
   ]
  },
  {
   "cell_type": "markdown",
   "metadata": {},
   "source": [
    "## Unit tested Results"
   ]
  },
  {
   "cell_type": "markdown",
   "metadata": {},
   "source": [
    "#### b25-sn-v50 param: vector_size=50, window=5, min_count=1, sg=0\n",
    "Accuracy: 0.260704184141227\n",
    "\n",
    "#### b25-sn-v256-a param: vector_size=256, window=5, min_count=1, sg=0\n",
    "Accuracy: 0.28089339705452065\n",
    "\n",
    "#### b25-sn-v256-b param: vector_size=256, window=10, min_count=1, sg=0\n",
    "Accuracy: 0.3198088364381157\n",
    "\n",
    "#### b25-sn-v256-c param: vector_size=256, window=20, min_count=1, sg=0\n",
    "Accuracy: 0.39529893689651807\n",
    "\n",
    "#### b25-sn-v256-d param: vector_size=256, window=20, min_count=1, sg=1, ns_exponent=0.0\n",
    "Accuracy: 0.4845411099190481\n",
    "\n",
    "#### b25-sn-v512-a param: vector_size=512, window=100, min_count=1, sg=0\n",
    "Accuracy: 0.5000487662147665\n",
    "\n",
    "#### b25-sn-v512-b param: vector_size=512, window=100, min_count=1, sg=1, ns_exponent=0.0\n",
    "Accuracy: 0.6720959719106603\n",
    "\n",
    "\n"
   ]
  }
 ],
 "metadata": {
  "kernelspec": {
   "display_name": "venv",
   "language": "python",
   "name": "python3"
  },
  "language_info": {
   "codemirror_mode": {
    "name": "ipython",
    "version": 3
   },
   "file_extension": ".py",
   "mimetype": "text/x-python",
   "name": "python",
   "nbconvert_exporter": "python",
   "pygments_lexer": "ipython3",
   "version": "3.10.11"
  }
 },
 "nbformat": 4,
 "nbformat_minor": 2
}
