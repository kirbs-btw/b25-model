{
 "cells": [
  {
   "cell_type": "markdown",
   "metadata": {},
   "source": [
    "# B25 - Training"
   ]
  },
  {
   "cell_type": "code",
   "execution_count": 1,
   "metadata": {},
   "outputs": [],
   "source": [
    "from gensim.models import Word2Vec\n",
    "import pickle"
   ]
  },
  {
   "cell_type": "code",
   "execution_count": 2,
   "metadata": {},
   "outputs": [],
   "source": [
    "with open(\"../data/tokenized_data/playlist_names/dataset_train_v3.pkl\", \"rb\") as f:\n",
    "    train_dataset = pickle.load(f)"
   ]
  },
  {
   "cell_type": "code",
   "execution_count": null,
   "metadata": {},
   "outputs": [],
   "source": [
    "word2vec_model = Word2Vec(\n",
    "    sentences=train_dataset, workers=10, vector_size=50, window=5, min_count=1, sg=0\n",
    ")\n",
    "word2vec_model.save(\"../models/b25-sn-v50/b25-sn-v50.model\")"
   ]
  },
  {
   "cell_type": "code",
   "execution_count": 5,
   "metadata": {},
   "outputs": [],
   "source": [
    "word2vec_model = Word2Vec(\n",
    "    sentences=train_dataset,\n",
    "    workers=10,\n",
    "    vector_size=50,\n",
    "    window=100,\n",
    "    min_count=1,\n",
    "    sg=0,\n",
    "    epochs=40,\n",
    ")\n",
    "word2vec_model.save(\"../models/b25-sn-v50/b25-sn-v50-b.model\")"
   ]
  },
  {
   "cell_type": "code",
   "execution_count": null,
   "metadata": {},
   "outputs": [],
   "source": [
    "word2vec_model = Word2Vec(\n",
    "    sentences=train_dataset, workers=10, vector_size=256, window=5, min_count=1, sg=0\n",
    ")\n",
    "word2vec_model.save(\"../models/b25-sn-v256/b25-sn-v256-a.model\")"
   ]
  },
  {
   "cell_type": "code",
   "execution_count": null,
   "metadata": {},
   "outputs": [],
   "source": [
    "word2vec_model = Word2Vec(\n",
    "    sentences=train_dataset, workers=10, vector_size=256, window=10, min_count=1, sg=0\n",
    ")\n",
    "word2vec_model.save(\"../models/b25-sn-v256/b25-sn-v256-b.model\")"
   ]
  },
  {
   "cell_type": "code",
   "execution_count": null,
   "metadata": {},
   "outputs": [],
   "source": [
    "word2vec_model = Word2Vec(\n",
    "    sentences=train_dataset, workers=10, vector_size=256, window=20, min_count=1, sg=0\n",
    ")\n",
    "word2vec_model.save(\"../models/b25-sn-v256/b25-sn-v256-c.model\")"
   ]
  },
  {
   "cell_type": "code",
   "execution_count": null,
   "metadata": {},
   "outputs": [],
   "source": [
    "word2vec_model = Word2Vec(\n",
    "    sentences=train_dataset,\n",
    "    workers=10,\n",
    "    vector_size=256,\n",
    "    window=20,\n",
    "    min_count=1,\n",
    "    sg=1,\n",
    "    ns_exponent=0.0,\n",
    "    epochs=40,  # prev 5 than 10 than 20\n",
    ")\n",
    "word2vec_model.save(\"../models/b25-sn-v256/b25-sn-v256-d.model\")"
   ]
  },
  {
   "cell_type": "code",
   "execution_count": null,
   "metadata": {},
   "outputs": [],
   "source": [
    "word2vec_model = Word2Vec(\n",
    "    sentences=train_dataset, workers=10, vector_size=256, window=100, min_count=1, sg=0\n",
    ")\n",
    "word2vec_model.save(\"../models/b25-sn-v256/b25-sn-v256-e.model\")"
   ]
  },
  {
   "cell_type": "code",
   "execution_count": null,
   "metadata": {},
   "outputs": [],
   "source": [
    "word2vec_model = Word2Vec(\n",
    "    sentences=train_dataset,\n",
    "    workers=10,\n",
    "    vector_size=256,\n",
    "    window=100,\n",
    "    min_count=1,\n",
    "    sg=1,\n",
    "    ns_exponent=0.0,\n",
    "    epochs=5,  # prev 5 than 10 than 20\n",
    ")\n",
    "word2vec_model.save(\"../models/b25-sn-v256/b25-sn-v256-d.model\")"
   ]
  },
  {
   "cell_type": "code",
   "execution_count": null,
   "metadata": {},
   "outputs": [],
   "source": [
    "word2vec_model = Word2Vec(\n",
    "    sentences=train_dataset, workers=10, vector_size=512, window=100, min_count=1, sg=0\n",
    ")\n",
    "word2vec_model.save(\"../models/b25-sn-v512/b25-sn-v512-a.model\")"
   ]
  },
  {
   "cell_type": "code",
   "execution_count": null,
   "metadata": {},
   "outputs": [],
   "source": [
    "word2vec_model = Word2Vec(\n",
    "    sentences=train_dataset,\n",
    "    workers=10,\n",
    "    vector_size=512,\n",
    "    window=100,\n",
    "    min_count=1,\n",
    "    sg=1,\n",
    "    ns_exponent=0.0,\n",
    "    epochs=40,\n",
    ")\n",
    "\n",
    "word2vec_model.save(\"../models/b25-sn-v512/b25-sn-v512-b.model\")"
   ]
  },
  {
   "cell_type": "code",
   "execution_count": null,
   "metadata": {},
   "outputs": [],
   "source": [
    "from algo_testing import song2vec_c\n",
    "\n",
    "model = song2vec_c.Song2VecC(\n",
    "    train_dataset, vector_size=512, epochs=15, learning_rate=0.015\n",
    ")\n",
    "\n",
    "with open(\"../models/b25-sn-v512/b25-sn-v512-o.pkl\", \"wb\") as f:\n",
    "    pickle.dump(model, f)"
   ]
  },
  {
   "cell_type": "code",
   "execution_count": null,
   "metadata": {},
   "outputs": [],
   "source": [
    "from algo_testing import song2vec_c\n",
    "\n",
    "model = song2vec_c.Song2VecC(\n",
    "    train_dataset, vector_size=512, epochs=15, learning_rate=0.025\n",
    ")\n",
    "\n",
    "with open(\"../models/b25-sn-v512/b25-sn-v512-d.pkl\", \"wb\") as f:\n",
    "    pickle.dump(model, f)"
   ]
  },
  {
   "cell_type": "code",
   "execution_count": 3,
   "metadata": {},
   "outputs": [],
   "source": [
    "# testing with additional score\n",
    "# the issues is the cluster forming is mostly towards the middle of the box with a varying differentiation of the things\n",
    "# testing litte teaks but i think there is still the need to pivot a bit more\n",
    "\n",
    "from algo_testing import song2vec_d\n",
    "\n",
    "model = song2vec_d.Song2VecD(\n",
    "    train_dataset, vector_size=512, epochs=15, learning_rate=0.025\n",
    ")\n",
    "\n",
    "with open(\"../models/b25-sn-v512/b25-sn-v512-e.pkl\", \"wb\") as f:\n",
    "    pickle.dump(model, f)\n",
    "# training was ok took the normal amount. Could use the squard L2 Norm\n",
    "# need to do backtesting of the algorithms"
   ]
  },
  {
   "cell_type": "code",
   "execution_count": null,
   "metadata": {},
   "outputs": [],
   "source": [
    "from algo_testing import son2vecgl_a\n",
    "\n",
    "model = son2vecgl_a.Song2GloveA(\n",
    "    training_data=train_dataset[0:1000], vector_size=512, epochs=15, learning_rate=0.025\n",
    ")\n",
    "\n",
    "with open(\"../models/b25-sn-v512/b25-sn-v512-g.pkl\", \"wb\") as f:\n",
    "    pickle.dump(model, f)"
   ]
  },
  {
   "cell_type": "code",
   "execution_count": null,
   "metadata": {},
   "outputs": [],
   "source": [
    "len(train_dataset)"
   ]
  },
  {
   "cell_type": "code",
   "execution_count": null,
   "metadata": {},
   "outputs": [],
   "source": [
    "from algo_testing import son2vecgl_b\n",
    "\n",
    "model = son2vecgl_b.Song2GloveB(\n",
    "    training_data=train_dataset[0:1000], vector_size=512, epochs=15, learning_rate=0.025\n",
    ")\n",
    "\n",
    "with open(\"../models/b25-sn-v512/b25-sn-v512-h.pkl\", \"wb\") as f:\n",
    "    pickle.dump(model, f)"
   ]
  },
  {
   "cell_type": "code",
   "execution_count": null,
   "metadata": {},
   "outputs": [],
   "source": [
    "from algo_testing import son2vecgl_c\n",
    "\n",
    "model = son2vecgl_c.Song2GloveC(\n",
    "    training_data=train_dataset, vector_size=512, epochs=15, learning_rate=0.025\n",
    ")\n",
    "\n",
    "with open(\"../models/b25-sn-v512/b25-sn-v512-i.pkl\", \"wb\") as f:\n",
    "    pickle.dump(model, f)"
   ]
  },
  {
   "cell_type": "code",
   "execution_count": 7,
   "metadata": {},
   "outputs": [
    {
     "data": {
      "text/plain": [
       "816957"
      ]
     },
     "execution_count": 7,
     "metadata": {},
     "output_type": "execute_result"
    }
   ],
   "source": [
    "len(train_dataset)"
   ]
  },
  {
   "cell_type": "code",
   "execution_count": 4,
   "metadata": {},
   "outputs": [
    {
     "name": "stdout",
     "output_type": "stream",
     "text": [
      "Epoch 1/5, Loss: 18405412.4272\n",
      "Epoch 2/5, Loss: 13423208.3921\n",
      "Epoch 3/5, Loss: 10481843.0700\n",
      "Epoch 4/5, Loss: 8869193.0689\n",
      "Epoch 5/5, Loss: 7794026.0473\n",
      "Model saved to ../models/b25-sn-v256/b25-sn-v256-e.pkl\n"
     ]
    }
   ],
   "source": [
    "# cboe\n",
    "import sys\n",
    "import os\n",
    "\n",
    "# Add the parent directory to the Python path\n",
    "sys.path.append(os.path.abspath(\"../\"))  # Adjust based on the notebook's location\n",
    "\n",
    "# Now import the `cboe` package\n",
    "from cboe import *\n",
    "\n",
    "model = Entity2Vec(\n",
    "    sentences=train_dataset,\n",
    "    vector_size=256,\n",
    "    min_count=1,\n",
    "    window=100,\n",
    "    epochs=5,\n",
    "    learning_rate=0.025,\n",
    ")\n",
    "\n",
    "# Save & load\n",
    "model.save(\"../models/b25-sn-v256/b25-sn-v256-e.pkl\")"
   ]
  },
  {
   "cell_type": "code",
   "execution_count": null,
   "metadata": {},
   "outputs": [],
   "source": [
    "# sge\n",
    "import sys\n",
    "import os\n",
    "\n",
    "# Add the parent directory to the Python path\n",
    "sys.path.append(os.path.abspath(\"../\"))  # Adjust based on the notebook's location\n",
    "\n",
    "from sge import *\n",
    "\n",
    "model = SkipGramEntity2Vec(\n",
    "    tokenized_data=train_dataset,\n",
    "    vector_size=256,\n",
    "    min_count=1,\n",
    "    epochs=20,\n",
    "    learning_rate=0.025,\n",
    ")\n",
    "\n",
    "\n",
    "model.save(\"../models/b25-sn-v256/b25-sn-v256-f.pkl\")"
   ]
  },
  {
   "cell_type": "code",
   "execution_count": null,
   "metadata": {},
   "outputs": [],
   "source": [
    "# model training with a plan\n",
    "algorithms_map = {\n",
    "    0: \"CBOW\",\n",
    "    1: \"SG\"\n",
    "}\n",
    "window_sizes = [\n",
    "    10,\n",
    "    150\n",
    "]\n",
    "epochs = [\n",
    "    5,\n",
    "    20\n",
    "]\n",
    "vector_sizes = [\n",
    "    64, \n",
    "    256\n",
    "]\n",
    "\n",
    "for algorithm in algorithms_map:\n",
    "    for vector_size in vector_sizes:\n",
    "        for epoch in epochs:\n",
    "            for window_size in window_sizes:\n",
    "                model_name = f\"b25-{algorithms_map[algorithm]}-{vector_size}-{epoch}-{window_size}\"\n",
    "                if algorithm == 0:\n",
    "                    model = Word2Vec(\n",
    "                        sentences=train_dataset,\n",
    "                        workers=10,\n",
    "                        vector_size=vector_size,\n",
    "                        window=window_size,\n",
    "                        min_count=1,\n",
    "                        sg=algorithm,\n",
    "                        epochs=epoch, \n",
    "                    )\n",
    "                elif algorithm == 1:\n",
    "                    model = Word2Vec(\n",
    "                        sentences=train_dataset,\n",
    "                        workers=10,\n",
    "                        vector_size=vector_size,\n",
    "                        window=window_size,\n",
    "                        min_count=1,\n",
    "                        sg=algorithm,\n",
    "                        ns_exponent=0.0,\n",
    "                        epochs=epoch,\n",
    "                    )\n",
    "                model_save_path = f\"../models_str/{model_name}.model\"\n",
    "                model.save(model_save_path)\n"
   ]
  },
  {
   "cell_type": "code",
   "execution_count": null,
   "metadata": {},
   "outputs": [],
   "source": []
  }
 ],
 "metadata": {
  "kernelspec": {
   "display_name": "venv",
   "language": "python",
   "name": "python3"
  },
  "language_info": {
   "codemirror_mode": {
    "name": "ipython",
    "version": 3
   },
   "file_extension": ".py",
   "mimetype": "text/x-python",
   "name": "python",
   "nbconvert_exporter": "python",
   "pygments_lexer": "ipython3",
   "version": "3.10.11"
  }
 },
 "nbformat": 4,
 "nbformat_minor": 2
}
